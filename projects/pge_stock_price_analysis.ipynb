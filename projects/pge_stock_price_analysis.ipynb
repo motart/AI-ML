{
 "cells": [
  {
   "cell_type": "markdown",
   "metadata": {},
   "source": [
    "# Supervised Learning - Course Final Project\n",
    "\n",
    "## PG&E Stock Analysis.\n",
    "\n",
    "### Objectives\n",
    "- Assess if the impact of the fires on the stock price has been fully reversed.\n",
    "- Is the stock is still underpriced?\n",
    "\n",
    "### Peer Utility companies selected to comparative analysis\n",
    "- Edison International (EIX)\n",
    "- Sempra Energy (SRE)\n",
    "- NextEra Energy, Inc. (NEE)\n",
    "- Duke Energy Corporation (DUK)\n",
    "- Exelon Corporation (EXC)\n",
    "- American Electric Power Company, Inc. (AEP)\n",
    "- Dominion Energy, Inc. (D)\n",
    "- FirstEnergy Corp. (FE)\n",
    "- PPL Corporation (PPL)\n",
    "- Entergy Corporation (ETR)\n",
    "- Xcel Energy Inc. (XEL)\n",
    "- Consolidated Edison, Inc. (ED)\n",
    "- Public Service Enterprise Group (PSEG)\n",
    "- National Grid plc (NGG)\n",
    "- CMS Energy Corporation (CMS)\n",
    "- DTE Energy Company (DTE)\n",
    "- Alliant Energy Corporation (LNT)\n",
    "- CenterPoint Energy, Inc. (CNP)\n",
    "- AES Corporation (AES)\n",
    "- Avangrid, Inc. (AGR)\n",
    "- Eversource Energy (ES)\n",
    "\n",
    "\n",
    "\n",
    "\n",
    "### The DataSet\n",
    "\n",
    "\n"
   ]
  },
  {
   "cell_type": "markdown",
   "metadata": {},
   "source": []
  }
 ],
 "metadata": {
  "kernelspec": {
   "display_name": ".venv",
   "language": "python",
   "name": "python3"
  },
  "language_info": {
   "codemirror_mode": {
    "name": "ipython",
    "version": 3
   },
   "file_extension": ".py",
   "mimetype": "text/x-python",
   "name": "python",
   "nbconvert_exporter": "python",
   "pygments_lexer": "ipython3",
   "version": "3.12.3"
  }
 },
 "nbformat": 4,
 "nbformat_minor": 2
}
